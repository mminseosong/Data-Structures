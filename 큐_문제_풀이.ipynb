{
 "cells": [
  {
   "cell_type": "markdown",
   "id": "64192b1d",
   "metadata": {},
   "source": [
    "# 문제 1: LeetCode 225. Implement Stack using Queues"
   ]
  },
  {
   "cell_type": "code",
   "execution_count": null,
   "id": "f1ef6ece",
   "metadata": {},
   "outputs": [],
   "source": [
    "from collections import deque\n",
    "\n",
    "class MyStack:\n",
    "    def __init__(self):\n",
    "        self.q1 = deque()\n",
    "        self.q2 = deque()\n",
    "\n",
    "    def push(self, x: int) -> None:\n",
    "        self.q2.append(x)\n",
    "        while self.q1:\n",
    "            self.q2.append(self.q1.popleft())\n",
    "        self.q1, self.q2 = self.q2, self.q2.clear() or self.q2\n",
    "\n",
    "    def pop(self) -> int:\n",
    "        return self.q1.popleft()\n",
    "\n",
    "    def top(self) -> int:\n",
    "        return self.q1[0]\n",
    "\n",
    "    def empty(self) -> bool:\n",
    "        return not self.q1\n"
   ]
  },
  {
   "cell_type": "markdown",
   "id": "4af1306e",
   "metadata": {},
   "source": [
    "# 문제 2: LeetCode 232. Implement Queue using Stacks"
   ]
  },
  {
   "cell_type": "code",
   "execution_count": null,
   "id": "e4c75bad",
   "metadata": {},
   "outputs": [],
   "source": [
    "class MyQueue:\n",
    "    def __init__(self):\n",
    "        self.stack_in = []\n",
    "        self.stack_out = []\n",
    "\n",
    "    def push(self, x: int) -> None:\n",
    "        self.stack_in.append(x)\n",
    "\n",
    "    def pop(self) -> int:\n",
    "        self._transfer()\n",
    "        return self.stack_out.pop()\n",
    "\n",
    "    def peek(self) -> int:\n",
    "        self._transfer()\n",
    "        return self.stack_out[-1]\n",
    "\n",
    "    def empty(self) -> bool:\n",
    "        return not self.stack_in and not self.stack_out\n",
    "\n",
    "    def _transfer(self):\n",
    "        if not self.stack_out:\n",
    "            while self.stack_in:\n",
    "                self.stack_out.append(self.stack_in.pop())\n"
   ]
  },
  {
   "cell_type": "markdown",
   "id": "464662d0",
   "metadata": {},
   "source": [
    "# 문제 3: 교재의 큐 연습문제 모음"
   ]
  },
  {
   "cell_type": "markdown",
   "id": "5b13c202",
   "metadata": {},
   "source": [
    "## 3-1. ListQueue 구현 (front는 맨 끝, tail은 맨 앞)"
   ]
  },
  {
   "cell_type": "code",
   "execution_count": null,
   "id": "805bd188",
   "metadata": {},
   "outputs": [],
   "source": [
    "class ListQueue:\n",
    "    def __init__(self):\n",
    "        self.__queue = []\n",
    "\n",
    "    def enqueue(self, x):\n",
    "        self.__queue.insert(0, x)\n",
    "\n",
    "    def dequeue(self):\n",
    "        return self.__queue.pop()\n",
    "\n",
    "    def front(self):\n",
    "        return self.__queue[-1]\n",
    "\n",
    "    def isEmpty(self) -> bool:\n",
    "        return len(self.__queue) == 0\n",
    "\n",
    "    def dequeueAll(self):\n",
    "        self.__queue.clear()\n"
   ]
  },
  {
   "cell_type": "markdown",
   "id": "948740f2",
   "metadata": {},
   "source": [
    "## 3-2. '$' 기준으로 큐 문자열 비교"
   ]
  },
  {
   "cell_type": "code",
   "execution_count": null,
   "id": "5fcf5681",
   "metadata": {},
   "outputs": [],
   "source": [
    "from collections import deque\n",
    "\n",
    "def is_in_set(input_str):\n",
    "    if input_str.count('$') != 1:\n",
    "        return False\n",
    "    left, right = input_str.split('$')\n",
    "    queue = deque(left)\n",
    "    for ch in right:\n",
    "        if not queue or queue.popleft() != ch:\n",
    "            return False\n",
    "    return len(queue) == 0\n"
   ]
  },
  {
   "cell_type": "markdown",
   "id": "633e7a92",
   "metadata": {},
   "source": [
    "## 3-3. LinkedQueue 복사"
   ]
  },
  {
   "cell_type": "code",
   "execution_count": null,
   "id": "ce3e7285",
   "metadata": {},
   "outputs": [],
   "source": [
    "def copy_queue(a: LinkedQueue) -> LinkedQueue:\n",
    "    b = LinkedQueue()\n",
    "    current = a.front\n",
    "    while current is not None:\n",
    "        b.enqueue(current.item)\n",
    "        current = current.link\n",
    "    return b\n"
   ]
  },
  {
   "cell_type": "markdown",
   "id": "4172b067",
   "metadata": {},
   "source": [
    "## 3-4. 큐로 스택 구현"
   ]
  },
  {
   "cell_type": "code",
   "execution_count": null,
   "id": "e1dc6615",
   "metadata": {},
   "outputs": [],
   "source": [
    "from collections import deque\n",
    "\n",
    "class StackUsingQueues:\n",
    "    def __init__(self):\n",
    "        self.q1 = deque()\n",
    "        self.q2 = deque()\n",
    "\n",
    "    def push(self, x):\n",
    "        self.q1.append(x)\n",
    "\n",
    "    def pop(self):\n",
    "        if not self.q1:\n",
    "            return None\n",
    "        while len(self.q1) > 1:\n",
    "            self.q2.append(self.q1.popleft())\n",
    "        popped = self.q1.popleft()\n",
    "        self.q1, self.q2 = self.q2, self.q1\n",
    "        return popped\n",
    "\n",
    "    def top(self):\n",
    "        if not self.q1:\n",
    "            return None\n",
    "        while len(self.q1) > 1:\n",
    "            self.q2.append(self.q1.popleft())\n",
    "        top_elem = self.q1.popleft()\n",
    "        self.q2.append(top_elem)\n",
    "        self.q1, self.q2 = self.q2, self.q1\n",
    "        return top_elem\n",
    "\n",
    "    def is_empty(self):\n",
    "        return not self.q1\n"
   ]
  },
  {
   "cell_type": "markdown",
   "id": "860e7617",
   "metadata": {},
   "source": [
    "## 3-5. 스택으로 큐 구현"
   ]
  },
  {
   "cell_type": "code",
   "execution_count": null,
   "id": "649c8a5e",
   "metadata": {},
   "outputs": [],
   "source": [
    "class QueueUsingStacks:\n",
    "    def __init__(self):\n",
    "        self.s1 = []\n",
    "        self.s2 = []\n",
    "\n",
    "    def enqueue(self, x):\n",
    "        self.s1.append(x)\n",
    "\n",
    "    def dequeue(self):\n",
    "        if not self.s1:\n",
    "            return None\n",
    "        while self.s1:\n",
    "            self.s2.append(self.s1.pop())\n",
    "        front = self.s2.pop()\n",
    "        while self.s2:\n",
    "            self.s1.append(self.s2.pop())\n",
    "        return front\n",
    "\n",
    "    def is_empty(self):\n",
    "        return not self.s1\n"
   ]
  },
  {
   "cell_type": "markdown",
   "id": "307d6f81",
   "metadata": {},
   "source": [
    "## 3-6. 수행 시간 요약"
   ]
  },
  {
   "cell_type": "markdown",
   "id": "629d72d5",
   "metadata": {},
   "source": [
    "- `enqueue()` 수행 시간: O(1)  \n",
    "- `dequeue()` 수행 시간: O(1)\n",
    "\n",
    "- `enqueue_front()` 수행 시간: O(1)  \n",
    "- `enqueue_rear()` 수행 시간: O(1)  \n",
    "- `dequeue_front()` 수행 시간: O(1)  \n",
    "- `dequeue_rear()` 수행 시간: O(n)\n"
   ]
  },
  {
   "cell_type": "markdown",
   "id": "7f3b3891",
   "metadata": {},
   "source": [
    "## 3-7. Deque 클래스 구현"
   ]
  },
  {
   "cell_type": "code",
   "execution_count": null,
   "id": "0afabef3",
   "metadata": {},
   "outputs": [],
   "source": [
    "from collections import deque\n",
    "\n",
    "class Deque:\n",
    "    def __init__(self):\n",
    "        self.__deque = deque()\n",
    "\n",
    "    def enqueue_front(self, x):\n",
    "        self.__deque.appendleft(x)\n",
    "\n",
    "    def enqueue_rear(self, x):\n",
    "        self.__deque.append(x)\n",
    "\n",
    "    def dequeue_front(self):\n",
    "        if self.isEmpty():\n",
    "            return None\n",
    "        return self.__deque.popleft()\n",
    "\n",
    "    def dequeue_rear(self):\n",
    "        if self.isEmpty():\n",
    "            return None\n",
    "        return self.__deque.pop()\n",
    "\n",
    "    def front(self):\n",
    "        if self.isEmpty():\n",
    "            return None\n",
    "        return self.__deque[0]\n",
    "\n",
    "    def rear(self):\n",
    "        if self.isEmpty():\n",
    "            return None\n",
    "        return self.__deque[-1]\n",
    "\n",
    "    def isEmpty(self) -> bool:\n",
    "        return len(self.__deque) == 0\n",
    "\n",
    "    def dequeueAll(self):\n",
    "        self.__deque.clear()\n",
    "\n",
    "    def printDeque(self):\n",
    "        print(\"Deque from front:\", end=' ')\n",
    "        for item in self.__deque:\n",
    "            print(item, end=' ')\n",
    "        print()\n"
   ]
  }
 ],
 "metadata": {
  "kernelspec": {
   "display_name": "Python 3",
   "name": "python3"
  }
 },
 "nbformat": 4,
 "nbformat_minor": 5
}
